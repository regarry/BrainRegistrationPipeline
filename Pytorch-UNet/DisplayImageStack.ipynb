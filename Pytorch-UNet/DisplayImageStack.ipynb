{
 "cells": [
  {
   "cell_type": "code",
   "execution_count": 1,
   "metadata": {},
   "outputs": [],
   "source": [
    "import numpy as np\n",
    "import os\n",
    "from scipy.ndimage import rotate\n",
    "from PIL import Image\n",
    "import matplotlib.pyplot as plt\n",
    "from ipywidgets import interact"
   ]
  },
  {
   "cell_type": "code",
   "execution_count": 2,
   "metadata": {},
   "outputs": [],
   "source": [
    "def plot_slice(slice):\n",
    "    plt.imshow(slice, cmap='gray')\n",
    "    plt.show()\n",
    "\n",
    "def explore_3dimage(volume):\n",
    "    interact(lambda slice_index: plot_slice(volume[:, :, slice_index]), \n",
    "             slice_index=(0, volume.shape[2] - 1))\n",
    "    \n",
    "def stack_images_to_volume(dir_path, image_format):\n",
    "    # Get a list of all image files in the directory with the specified format\n",
    "    image_files = [os.path.join(dir_path, file) for file in os.listdir(dir_path) if file.endswith(image_format)]\n",
    "\n",
    "    # Load 2D images\n",
    "    images = [Image.open(image_file) for image_file in image_files]\n",
    "\n",
    "    # Stack 2D images into a 3D volume\n",
    "    volume = np.stack(images, axis=-1)\n",
    "\n",
    "    return volume\n",
    "\n",
    "def slice_volume(volume, plane, index):\n",
    "    if plane == 'xy':\n",
    "        slice = volume[:, :, index]\n",
    "    elif plane == 'xz':\n",
    "        slice = volume[:, index, :]\n",
    "    elif plane == 'yz':\n",
    "        slice = volume[index, :, :]\n",
    "    else:\n",
    "        raise ValueError(\"Invalid plane; choose from 'xy', 'xz', 'yz'\")\n",
    "\n",
    "    return slice\n",
    "\n",
    "def oblique_slice(volume, angle, axis, slice_index):\n",
    "    # Rotate the volume\n",
    "    rotated_volume = rotate(volume, angle, axes=axis)\n",
    "\n",
    "    # Slice the volume\n",
    "    oblique_slice = rotated_volume[slice_index]\n",
    "\n",
    "    return oblique_slice\n",
    "\n",
    "def save_slice_as_png(slice, file_name):\n",
    "    # Convert to PIL Image and save\n",
    "    img = Image.fromarray(slice)\n",
    "    img.save(file_name)"
   ]
  },
  {
   "cell_type": "code",
   "execution_count": 3,
   "metadata": {},
   "outputs": [],
   "source": [
    "# Usage\n",
    "volume = stack_images_to_volume('./testset_11-29/masks/', '.png')\n",
    "oblique = oblique_slice(volume, 45, (0, 1), 50)\n",
    "save_slice_as_png(oblique, 'output.png')\n",
    "#explore_3dimage(volume)"
   ]
  }
 ],
 "metadata": {
  "kernelspec": {
   "display_name": "Python 3",
   "language": "python",
   "name": "python3"
  },
  "language_info": {
   "codemirror_mode": {
    "name": "ipython",
    "version": 3
   },
   "file_extension": ".py",
   "mimetype": "text/x-python",
   "name": "python",
   "nbconvert_exporter": "python",
   "pygments_lexer": "ipython3",
   "version": "3.7.12"
  }
 },
 "nbformat": 4,
 "nbformat_minor": 2
}
